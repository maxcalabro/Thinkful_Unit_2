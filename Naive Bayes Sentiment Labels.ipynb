{
 "cells": [
  {
   "cell_type": "code",
   "execution_count": 1,
   "metadata": {
    "collapsed": true
   },
   "outputs": [],
   "source": [
    "import numpy as np\n",
    "import pandas as pd\n",
    "import matplotlib.pyplot as plt\n",
    "import seaborn as sns\n",
    "import scipy\n",
    "import sklearn\n",
    "from sklearn.naive_bayes import BernoulliNB\n",
    "\n",
    "%matplotlib inline\n",
    "sns.set_style('white')"
   ]
  },
  {
   "cell_type": "code",
   "execution_count": 2,
   "metadata": {},
   "outputs": [],
   "source": [
    "raw = pd.read_csv('yelp_labelled.txt', sep='\\t', names=['comment','sentiment'])"
   ]
  },
  {
   "cell_type": "code",
   "execution_count": 3,
   "metadata": {},
   "outputs": [
    {
     "data": {
      "text/html": [
       "<div>\n",
       "<style>\n",
       "    .dataframe thead tr:only-child th {\n",
       "        text-align: right;\n",
       "    }\n",
       "\n",
       "    .dataframe thead th {\n",
       "        text-align: left;\n",
       "    }\n",
       "\n",
       "    .dataframe tbody tr th {\n",
       "        vertical-align: top;\n",
       "    }\n",
       "</style>\n",
       "<table border=\"1\" class=\"dataframe\">\n",
       "  <thead>\n",
       "    <tr style=\"text-align: right;\">\n",
       "      <th></th>\n",
       "      <th>comment</th>\n",
       "      <th>sentiment</th>\n",
       "    </tr>\n",
       "  </thead>\n",
       "  <tbody>\n",
       "    <tr>\n",
       "      <th>0</th>\n",
       "      <td>Wow... Loved this place.</td>\n",
       "      <td>1</td>\n",
       "    </tr>\n",
       "    <tr>\n",
       "      <th>1</th>\n",
       "      <td>Crust is not good.</td>\n",
       "      <td>0</td>\n",
       "    </tr>\n",
       "    <tr>\n",
       "      <th>2</th>\n",
       "      <td>Not tasty and the texture was just nasty.</td>\n",
       "      <td>0</td>\n",
       "    </tr>\n",
       "    <tr>\n",
       "      <th>3</th>\n",
       "      <td>Stopped by during the late May bank holiday of...</td>\n",
       "      <td>1</td>\n",
       "    </tr>\n",
       "    <tr>\n",
       "      <th>4</th>\n",
       "      <td>The selection on the menu was great and so wer...</td>\n",
       "      <td>1</td>\n",
       "    </tr>\n",
       "    <tr>\n",
       "      <th>5</th>\n",
       "      <td>Now I am getting angry and I want my damn pho.</td>\n",
       "      <td>0</td>\n",
       "    </tr>\n",
       "    <tr>\n",
       "      <th>6</th>\n",
       "      <td>Honeslty it didn't taste THAT fresh.)</td>\n",
       "      <td>0</td>\n",
       "    </tr>\n",
       "    <tr>\n",
       "      <th>7</th>\n",
       "      <td>The potatoes were like rubber and you could te...</td>\n",
       "      <td>0</td>\n",
       "    </tr>\n",
       "    <tr>\n",
       "      <th>8</th>\n",
       "      <td>The fries were great too.</td>\n",
       "      <td>1</td>\n",
       "    </tr>\n",
       "    <tr>\n",
       "      <th>9</th>\n",
       "      <td>A great touch.</td>\n",
       "      <td>1</td>\n",
       "    </tr>\n",
       "  </tbody>\n",
       "</table>\n",
       "</div>"
      ],
      "text/plain": [
       "                                             comment  sentiment\n",
       "0                           Wow... Loved this place.          1\n",
       "1                                 Crust is not good.          0\n",
       "2          Not tasty and the texture was just nasty.          0\n",
       "3  Stopped by during the late May bank holiday of...          1\n",
       "4  The selection on the menu was great and so wer...          1\n",
       "5     Now I am getting angry and I want my damn pho.          0\n",
       "6              Honeslty it didn't taste THAT fresh.)          0\n",
       "7  The potatoes were like rubber and you could te...          0\n",
       "8                          The fries were great too.          1\n",
       "9                                     A great touch.          1"
      ]
     },
     "execution_count": 3,
     "metadata": {},
     "output_type": "execute_result"
    }
   ],
   "source": [
    "raw.head(10)"
   ]
  },
  {
   "cell_type": "code",
   "execution_count": 4,
   "metadata": {},
   "outputs": [],
   "source": [
    "keywords = ['great', 'good', 'delight','wow', 'like', 'love', 'beautiful']\n",
    "\n",
    "for key in keywords:\n",
    "    raw[str(key)] = raw.comment.str.contains(str(key), case=False)"
   ]
  },
  {
   "cell_type": "code",
   "execution_count": 5,
   "metadata": {},
   "outputs": [],
   "source": [
    "raw.sentiment.replace([0, 1], [False, True], inplace=True)"
   ]
  },
  {
   "cell_type": "code",
   "execution_count": 6,
   "metadata": {},
   "outputs": [
    {
     "data": {
      "image/png": "[encoded data removed]",
      "text/plain": [
       "<matplotlib.figure.Figure at 0x10930d240>"
      ]
     },
     "metadata": {},
     "output_type": "display_data"
    }
   ],
   "source": [
    "corrmat = raw.corr()\n",
    "sns.heatmap(corrmat)\n",
    "plt.show()"
   ]
  },
  {
   "cell_type": "code",
   "execution_count": 7,
   "metadata": {
    "collapsed": true
   },
   "outputs": [],
   "source": [
    "data = raw[keywords]\n",
    "target = raw['sentiment']"
   ]
  },
  {
   "cell_type": "code",
   "execution_count": 8,
   "metadata": {},
   "outputs": [
    {
     "name": "stdout",
     "output_type": "stream",
     "text": [
      "Number of mislabeled points out of a total 1000 points : 362\n"
     ]
    }
   ],
   "source": [
    "bnb = BernoulliNB()\n",
    "\n",
    "bnb.fit(data, target)\n",
    "\n",
    "y_pred = bnb.predict(data)\n",
    "\n",
    "print(\"Number of mislabeled points out of a total {} points : {}\".format(\n",
    "    data.shape[0],\n",
    "    (target != y_pred).sum()\n",
    "))"
   ]
  },
  {
   "cell_type": "markdown",
   "metadata": {},
   "source": [
    "First attempt: 362/1000 incorrect. That's bad news. I need a better idea of which words are important."
   ]
  },
  {
   "cell_type": "code",
   "execution_count": 9,
   "metadata": {},
   "outputs": [],
   "source": [
    "#Let's find which words are most typical for good and bad reviews\n",
    "\n",
    "import string\n",
    "\n",
    "translator = str.maketrans('', '', string.punctuation)\n",
    "pos_words = pd.Series()\n",
    "neg_words = pd.Series()\n",
    "\n",
    "for com in raw[raw.sentiment==1].comment:\n",
    "    words = com.split(' ')\n",
    "    for w in words:\n",
    "        s = w.translate(translator).lower()\n",
    "        pos_words = pos_words.append(pd.Series(s), ignore_index=True)\n",
    "        \n",
    "for com in raw[raw.sentiment==0].comment:\n",
    "    words = com.split(' ')\n",
    "    for w in words:\n",
    "        s = w.translate(translator).lower()\n",
    "        neg_words = neg_words.append(pd.Series(s), ignore_index=True)"
   ]
  },
  {
   "cell_type": "code",
   "execution_count": 10,
   "metadata": {},
   "outputs": [],
   "source": [
    "#And now exclude the words in common between the two sets\n",
    "\n",
    "keywords = []\n",
    "for word in pos_words.value_counts().head(100).index:\n",
    "    if not np.isin(word, neg_words.value_counts().head(100).index): keywords.append(str(word)) "
   ]
  },
  {
   "cell_type": "code",
   "execution_count": 11,
   "metadata": {},
   "outputs": [
    {
     "data": {
      "text/plain": [
       "['great',\n",
       " 'friendly',\n",
       " 'delicious',\n",
       " 'best',\n",
       " 'nice',\n",
       " 'amazing',\n",
       " 'also',\n",
       " 'restaurant',\n",
       " 'love',\n",
       " 'vegas',\n",
       " 'staff',\n",
       " 'first',\n",
       " 'fantastic',\n",
       " 'menu',\n",
       " 'experience',\n",
       " 'always',\n",
       " 'awesome',\n",
       " 'made',\n",
       " 'its',\n",
       " 'pretty',\n",
       " 'he',\n",
       " 'loved',\n",
       " 'definitely',\n",
       " 'perfect',\n",
       " 'steak',\n",
       " 'excellent',\n",
       " 'fresh',\n",
       " 'pizza',\n",
       " 'even',\n",
       " 'atmosphere',\n",
       " 'prices',\n",
       " 'chicken',\n",
       " 'server',\n",
       " 'has',\n",
       " 'tasty',\n",
       " 'every',\n",
       " 'well']"
      ]
     },
     "execution_count": 11,
     "metadata": {},
     "output_type": "execute_result"
    }
   ],
   "source": [
    "keywords"
   ]
  },
  {
   "cell_type": "markdown",
   "metadata": {},
   "source": [
    "This list of words is way better than mine! Let's try the model with these."
   ]
  },
  {
   "cell_type": "code",
   "execution_count": 12,
   "metadata": {},
   "outputs": [
    {
     "name": "stdout",
     "output_type": "stream",
     "text": [
      "Number of mislabeled points out of a total 1000 points : 267\n"
     ]
    }
   ],
   "source": [
    "raw = pd.read_csv('yelp_labelled.txt', sep='\\t', names=['comment','sentiment'])\n",
    "raw.sentiment.replace([0, 1], [False, True], inplace=True)\n",
    "\n",
    "for key in keywords:\n",
    "    raw[str(key)] = raw.comment.str.contains(str(key), case=False)\n",
    "    \n",
    "data = raw[keywords]\n",
    "target = raw['sentiment']\n",
    "\n",
    "\n",
    "bnb.fit(data, target)\n",
    "y_pred = bnb.predict(data)\n",
    "\n",
    "print(\"Number of mislabeled points out of a total {} points : {}\".format(\n",
    "    data.shape[0],\n",
    "    (target != y_pred).sum()\n",
    "))"
   ]
  },
  {
   "cell_type": "markdown",
   "metadata": {},
   "source": [
    "Okay, it's a little better: 267/1000 mislabeled. Maybe negative words are more predictive than positive? Let's try updating 'keywords' to reflect that."
   ]
  },
  {
   "cell_type": "code",
   "execution_count": 13,
   "metadata": {},
   "outputs": [],
   "source": [
    "keywords = []\n",
    "for word in neg_words.value_counts().head(100).index:\n",
    "    if not np.isin(word, pos_words.value_counts().head(100).index): keywords.append(str(word)) "
   ]
  },
  {
   "cell_type": "code",
   "execution_count": 14,
   "metadata": {},
   "outputs": [
    {
     "name": "stdout",
     "output_type": "stream",
     "text": [
      "Number of mislabeled points out of a total 1000 points : 275\n"
     ]
    }
   ],
   "source": [
    "raw = pd.read_csv('yelp_labelled.txt', sep='\\t', names=['comment','sentiment'])\n",
    "raw.sentiment.replace([0, 1], [False, True], inplace=True)\n",
    "raw.sentiment = raw.sentiment == False\n",
    "\n",
    "for key in keywords:\n",
    "    raw[str(key)] = raw.comment.str.contains(str(key), case=False)\n",
    "    \n",
    "data = raw[keywords]\n",
    "target = raw['sentiment']\n",
    "\n",
    "\n",
    "bnb.fit(data, target)\n",
    "y_pred = bnb.predict(data)\n",
    "\n",
    "print(\"Number of mislabeled points out of a total {} points : {}\".format(\n",
    "    data.shape[0],\n",
    "    (target != y_pred).sum()\n",
    "))"
   ]
  },
  {
   "cell_type": "markdown",
   "metadata": {},
   "source": [
    "Well, that's actually about the same. So we're hovering around 27% error rate. I can increase the number of words in each set, which gets us down to about 20%. Increasing this too much risks overfitting. Let's see how these keywords generalize to another dataset. We'll switch back to positive reviews. (Note: This dataset had very SHORT reviews)"
   ]
  },
  {
   "cell_type": "code",
   "execution_count": 15,
   "metadata": {
    "collapsed": true
   },
   "outputs": [],
   "source": [
    "keywords = []\n",
    "for word in pos_words.value_counts().head(100).index:\n",
    "    if not np.isin(word, neg_words.value_counts().head(100).index): keywords.append(str(word)) "
   ]
  },
  {
   "cell_type": "code",
   "execution_count": 16,
   "metadata": {},
   "outputs": [
    {
     "name": "stdout",
     "output_type": "stream",
     "text": [
      "Number of mislabeled points out of a total 748 points : 288\n"
     ]
    }
   ],
   "source": [
    "raw_imdb = pd.read_csv('imdb_labelled.txt', sep='\\t', names=['comment','sentiment'])\n",
    "raw_imdb.sentiment.replace([0, 1], [False, True], inplace=True)\n",
    "\n",
    "for key in keywords:\n",
    "    raw_imdb[str(key)] = raw_imdb.comment.str.contains(str(key), case=False)\n",
    "    \n",
    "data = raw_imdb[keywords]\n",
    "target = raw_imdb['sentiment']\n",
    "\n",
    "\n",
    "bnb.fit(data, target)\n",
    "y_pred = bnb.predict(data)\n",
    "\n",
    "print(\"Number of mislabeled points out of a total {} points : {}\".format(\n",
    "    data.shape[0],\n",
    "    (target != y_pred).sum()\n",
    "))"
   ]
  },
  {
   "cell_type": "markdown",
   "metadata": {},
   "source": [
    "So: 288/748 labelled incorrectly. It's not that good. Fair enough. Food words are probably different than movie words."
   ]
  },
  {
   "cell_type": "code",
   "execution_count": null,
   "metadata": {
    "collapsed": true
   },
   "outputs": [],
   "source": []
  }
 ],
 "metadata": {
  "kernelspec": {
   "display_name": "Python 3",
   "language": "python",
   "name": "python3"
  },
  "language_info": {
   "codemirror_mode": {
    "name": "ipython",
    "version": 3
   },
   "file_extension": ".py",
   "mimetype": "text/x-python",
   "name": "python",
   "nbconvert_exporter": "python",
   "pygments_lexer": "ipython3",
   "version": "3.6.2"
  }
 },
 "nbformat": 4,
 "nbformat_minor": 2
}
