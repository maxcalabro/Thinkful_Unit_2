{
 "cells": [
  {
   "cell_type": "code",
   "execution_count": 1,
   "metadata": {
    "collapsed": true
   },
   "outputs": [],
   "source": [
    "import numpy as np\n",
    "import pandas as pd\n",
    "import matplotlib.pyplot as plt\n",
    "import seaborn as sns\n",
    "import sklearn\n",
    "import string\n",
    "from sklearn import linear_model\n",
    "from sklearn.preprocessing import StandardScaler\n",
    "from sklearn.feature_selection import RFE\n",
    "from sklearn.model_selection import cross_val_score\n",
    "\n",
    "%matplotlib inline"
   ]
  },
  {
   "cell_type": "code",
   "execution_count": 2,
   "metadata": {
    "collapsed": true
   },
   "outputs": [],
   "source": [
    "# Function to help clean up data.\n",
    "# Converts strings to numeric series.\n",
    "# Leaves NaN as 0\n",
    "\n",
    "def make_num(old_series):\n",
    "    translator = str.maketrans('', '', string.punctuation)\n",
    "    \n",
    "    new_series = [str(num).translate(translator) for num in old_series]\n",
    "    new_series = pd.to_numeric(new_series, errors='coerce')\n",
    "    return pd.Series(new_series)"
   ]
  },
  {
   "cell_type": "code",
   "execution_count": 3,
   "metadata": {
    "collapsed": true
   },
   "outputs": [],
   "source": [
    "# Function to import a csv file into a clean dataframe\n",
    "\n",
    "def clean_csv(csv_filename):\n",
    "\n",
    "    crime_df = pd.read_csv(csv_filename)\n",
    "    crime_df = crime_df.drop(crime_df.index[crime_df['Population'].isnull()]).reset_index(drop=True)\n",
    "\n",
    "    clean_df = pd.DataFrame()\n",
    "    clean_df['City'] = crime_df['City']\n",
    "    clean_df['State'] = csv_filename.split('/')[1].split('_')[0].capitalize()\n",
    "    clean_df['Population'] = make_num(crime_df['Population'])\n",
    "    \n",
    "    clean_df['ViolentCrime'] = make_num(crime_df['Violent\\ncrime'])\n",
    "    clean_df['Robbery'] = make_num(crime_df['Robbery'])\n",
    "    clean_df['Murder'] = make_num(crime_df['Murder and\\nnonnegligent\\nmanslaughter'])\n",
    "\n",
    "    clean_df['Rape'] = pd.concat([make_num(crime_df['Rape\\n(legacy\\ndefinition)2']), \n",
    "                            make_num(crime_df['Rape\\n(revised\\ndefinition)1'])], axis=1).max(axis=1)\n",
    "\n",
    "    clean_df['Assault'] = make_num(crime_df['Aggravated\\nassault'])\n",
    "    \n",
    "    clean_df['PropertyCrime'] = make_num(crime_df['Property\\ncrime'])\n",
    "    clean_df['Burglary'] = make_num(crime_df['Burglary'])\n",
    "    clean_df['Larceny'] = make_num(crime_df['Larceny-\\ntheft'])\n",
    "    clean_df['MVTheft'] = make_num(crime_df['Motor\\nvehicle\\ntheft'])\n",
    "\n",
    "    clean_df.fillna(0)\n",
    "    \n",
    "    return clean_df"
   ]
  },
  {
   "cell_type": "code",
   "execution_count": 4,
   "metadata": {},
   "outputs": [],
   "source": [
    "df_all = pd.DataFrame()\n",
    "\n",
    "filenames = !ls crime_data/*.csv\n",
    "\n",
    "for state in filenames:\n",
    "    df = clean_csv(state)\n",
    "    df_all = df_all.append(df, ignore_index=True)"
   ]
  },
  {
   "cell_type": "code",
   "execution_count": 5,
   "metadata": {
    "collapsed": true
   },
   "outputs": [],
   "source": [
    "df_all['SqrtPop'] = np.sqrt(df_all['Population'])\n",
    "df_all['SqrtRobbery'] = np.sqrt(df_all['Robbery'])\n",
    "df_all['Robbery_x_Assault'] = df_all['Robbery'] * df_all['Assault']\n",
    "df_all['Murder'] = [1 if x > 0 else 0 for x in df_all['Murder']]\n",
    "df_all['Rape'] = [1 if x > 0 else 0 for x in df_all['Rape']]"
   ]
  },
  {
   "cell_type": "code",
   "execution_count": 6,
   "metadata": {
    "collapsed": true
   },
   "outputs": [],
   "source": [
    "X = df_all.loc[:,['Population', 'Robbery', 'Murder', 'Rape', 'Assault', 'SqrtPop', 'SqrtRobbery', 'Robbery_x_Assault']].fillna(0)\n",
    "Y = np.array(df_all.loc[:,['PropertyCrime']].fillna(0))\n",
    "\n",
    "corrmat = X.corr()\n",
    "\n",
    "X = StandardScaler().fit_transform(X)\n",
    "Y = StandardScaler().fit_transform(Y)"
   ]
  },
  {
   "cell_type": "code",
   "execution_count": 7,
   "metadata": {},
   "outputs": [
    {
     "name": "stdout",
     "output_type": "stream",
     "text": [
      "\n",
      "Coefficients: \n",
      " [[ 0.61593831  0.33855028  0.00329489 -0.00155739  0.48452106  0.01618368\n",
      "   0.01348234 -0.60720136]]\n",
      "\n",
      "Intercept: \n",
      " [ -2.59908720e-17]\n",
      "\n",
      "R-squared:\n",
      "0.946366487125\n"
     ]
    }
   ],
   "source": [
    "# Instantiate and fit our model.\n",
    "regr = linear_model.LinearRegression()\n",
    "regr.fit(X, Y)\n",
    "\n",
    "# Inspect the results.\n",
    "print('\\nCoefficients: \\n', regr.coef_)\n",
    "print('\\nIntercept: \\n', regr.intercept_)\n",
    "print('\\nR-squared:')\n",
    "print(regr.score(X, Y))"
   ]
  },
  {
   "cell_type": "markdown",
   "metadata": {},
   "source": [
    "## With RFE"
   ]
  },
  {
   "cell_type": "code",
   "execution_count": 37,
   "metadata": {},
   "outputs": [
    {
     "name": "stdout",
     "output_type": "stream",
     "text": [
      "Ranking: [1 2 5 6 1 4 3 1]\n",
      "\n",
      "Coefficients: \n",
      " [[ 0.88020999  0.62733937 -0.68367742]]\n",
      "\n",
      "Intercept: \n",
      " [ -2.64670221e-17]\n",
      "\n",
      "R-squared:\n",
      "0.929534028119\n"
     ]
    },
    {
     "name": "stderr",
     "output_type": "stream",
     "text": [
      "/Users/maxcalabro/anaconda3/lib/python3.6/site-packages/sklearn/utils/validation.py:547: DataConversionWarning: A column-vector y was passed when a 1d array was expected. Please change the shape of y to (n_samples, ), for example using ravel().\n",
      "  y = column_or_1d(y, warn=True)\n"
     ]
    }
   ],
   "source": [
    "regr_rfe = linear_model.LinearRegression()\n",
    "rfe_all = RFE(regr_rfe, n_features_to_select=3)\n",
    "\n",
    "rfe_all.fit(X, Y)\n",
    "\n",
    "print('Ranking: ' + str(rfe_all.ranking_))\n",
    "rank_ind = np.where(rfe_all.ranking_==1)\n",
    "\n",
    "X_rfe = X[:,rank_ind].squeeze()\n",
    "\n",
    "# Instantiate and fit our model.\n",
    "regr_rfe = linear_model.LinearRegression()\n",
    "regr_rfe.fit(X_rfe, Y)\n",
    "\n",
    "# Inspect the results.\n",
    "print('\\nCoefficients: \\n', regr_rfe.coef_)\n",
    "print('\\nIntercept: \\n', regr_rfe.intercept_)\n",
    "print('\\nR-squared:')\n",
    "print(regr_rfe.score(X_rfe, Y))"
   ]
  },
  {
   "cell_type": "markdown",
   "metadata": {},
   "source": [
    "## With Cross_Val"
   ]
  },
  {
   "cell_type": "code",
   "execution_count": 38,
   "metadata": {},
   "outputs": [
    {
     "name": "stdout",
     "output_type": "stream",
     "text": [
      "Regr w/ RFE Accuracy: 0.82 (+/- 0.41)\n",
      "Regr w/o RFE Accuracy: 0.91 (+/- 0.08)\n"
     ]
    }
   ],
   "source": [
    "n_folds = 8\n",
    "score_regr_rfe = cross_val_score(regr_rfe, X_rfe, Y, cv=n_folds)\n",
    "print(\"Regr w/ RFE Accuracy: %0.2f (+/- %0.2f)\" % (score_regr_rfe.mean(), score_regr_rfe.std() * 2))\n",
    "\n",
    "score_regr = cross_val_score(regr, X, Y, cv=n_folds)\n",
    "print(\"Regr w/o RFE Accuracy: %0.2f (+/- %0.2f)\" % (score_regr.mean(), score_regr.std() * 2))"
   ]
  },
  {
   "cell_type": "markdown",
   "metadata": {},
   "source": [
    "Interestingly, if I allow 4 variables to pass through the RFE instead of 3, we get nearly an identical score as with the full feature set. Restricting RFE to 3 variables, however, greatly increases the variance and lowers the accuracy. "
   ]
  },
  {
   "cell_type": "code",
   "execution_count": null,
   "metadata": {
    "collapsed": true
   },
   "outputs": [],
   "source": []
  }
 ],
 "metadata": {
  "kernelspec": {
   "display_name": "Python 3",
   "language": "python",
   "name": "python3"
  },
  "language_info": {
   "codemirror_mode": {
    "name": "ipython",
    "version": 3
   },
   "file_extension": ".py",
   "mimetype": "text/x-python",
   "name": "python",
   "nbconvert_exporter": "python",
   "pygments_lexer": "ipython3",
   "version": "3.6.2"
  }
 },
 "nbformat": 4,
 "nbformat_minor": 2
}
